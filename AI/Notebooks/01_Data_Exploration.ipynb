{
 "cells": [
  {
   "cell_type": "code",
   "execution_count": 2,
   "id": "b56897ff",
   "metadata": {},
   "outputs": [
    {
     "data": {
      "text/html": [
       "<div>\n",
       "<style scoped>\n",
       "    .dataframe tbody tr th:only-of-type {\n",
       "        vertical-align: middle;\n",
       "    }\n",
       "\n",
       "    .dataframe tbody tr th {\n",
       "        vertical-align: top;\n",
       "    }\n",
       "\n",
       "    .dataframe thead th {\n",
       "        text-align: right;\n",
       "    }\n",
       "</style>\n",
       "<table border=\"1\" class=\"dataframe\">\n",
       "  <thead>\n",
       "    <tr style=\"text-align: right;\">\n",
       "      <th></th>\n",
       "      <th>Make</th>\n",
       "      <th>Model</th>\n",
       "      <th>Year</th>\n",
       "      <th>Km</th>\n",
       "      <th>Transmission</th>\n",
       "      <th>Fuel</th>\n",
       "      <th>Price</th>\n",
       "    </tr>\n",
       "  </thead>\n",
       "  <tbody>\n",
       "    <tr>\n",
       "      <th>0</th>\n",
       "      <td>Chery</td>\n",
       "      <td>Arrizo 5</td>\n",
       "      <td>2020</td>\n",
       "      <td>77,000</td>\n",
       "      <td>automatic</td>\n",
       "      <td>gas</td>\n",
       "      <td>355,000</td>\n",
       "    </tr>\n",
       "    <tr>\n",
       "      <th>1</th>\n",
       "      <td>Hyundai</td>\n",
       "      <td>Accent RB</td>\n",
       "      <td>2017</td>\n",
       "      <td>95,000</td>\n",
       "      <td>automatic</td>\n",
       "      <td>gas</td>\n",
       "      <td>400,000</td>\n",
       "    </tr>\n",
       "    <tr>\n",
       "      <th>2</th>\n",
       "      <td>Kia</td>\n",
       "      <td>Cerato</td>\n",
       "      <td>2016</td>\n",
       "      <td>106,000</td>\n",
       "      <td>automatic</td>\n",
       "      <td>gas</td>\n",
       "      <td>415,000</td>\n",
       "    </tr>\n",
       "    <tr>\n",
       "      <th>3</th>\n",
       "      <td>Chrysler</td>\n",
       "      <td>300</td>\n",
       "      <td>2006</td>\n",
       "      <td>155,000</td>\n",
       "      <td>automatic</td>\n",
       "      <td>gas</td>\n",
       "      <td>650,000</td>\n",
       "    </tr>\n",
       "    <tr>\n",
       "      <th>4</th>\n",
       "      <td>Dodge</td>\n",
       "      <td>Charger</td>\n",
       "      <td>2010</td>\n",
       "      <td>80,000</td>\n",
       "      <td>automatic</td>\n",
       "      <td>gas</td>\n",
       "      <td>800,000</td>\n",
       "    </tr>\n",
       "  </tbody>\n",
       "</table>\n",
       "</div>"
      ],
      "text/plain": [
       "       Make      Model  Year       Km Transmission Fuel    Price\n",
       "0     Chery   Arrizo 5  2020   77,000    automatic  gas  355,000\n",
       "1   Hyundai  Accent RB  2017   95,000    automatic  gas  400,000\n",
       "2       Kia     Cerato  2016  106,000    automatic  gas  415,000\n",
       "3  Chrysler        300  2006  155,000    automatic  gas  650,000\n",
       "4     Dodge    Charger  2010   80,000    automatic  gas  800,000"
      ]
     },
     "execution_count": 2,
     "metadata": {},
     "output_type": "execute_result"
    }
   ],
   "source": [
    "import numpy as np\n",
    "import pandas as pd\n",
    "\n",
    "df1 = pd.read_csv(\"cars1.csv\", encoding='ISO-8859-1')\n",
    "df1.head()"
   ]
  },
  {
   "cell_type": "code",
   "execution_count": 3,
   "id": "37171ed2",
   "metadata": {},
   "outputs": [],
   "source": [
    "df = df1.copy()"
   ]
  },
  {
   "cell_type": "code",
   "execution_count": 4,
   "id": "756e60ff",
   "metadata": {},
   "outputs": [
    {
     "data": {
      "text/html": [
       "<div>\n",
       "<style scoped>\n",
       "    .dataframe tbody tr th:only-of-type {\n",
       "        vertical-align: middle;\n",
       "    }\n",
       "\n",
       "    .dataframe tbody tr th {\n",
       "        vertical-align: top;\n",
       "    }\n",
       "\n",
       "    .dataframe thead th {\n",
       "        text-align: right;\n",
       "    }\n",
       "</style>\n",
       "<table border=\"1\" class=\"dataframe\">\n",
       "  <thead>\n",
       "    <tr style=\"text-align: right;\">\n",
       "      <th></th>\n",
       "      <th>Make</th>\n",
       "      <th>Model</th>\n",
       "      <th>Year</th>\n",
       "      <th>Km</th>\n",
       "      <th>Transmission</th>\n",
       "      <th>Fuel</th>\n",
       "      <th>Price</th>\n",
       "    </tr>\n",
       "  </thead>\n",
       "  <tbody>\n",
       "    <tr>\n",
       "      <th>0</th>\n",
       "      <td>Chery</td>\n",
       "      <td>Arrizo 5</td>\n",
       "      <td>2020</td>\n",
       "      <td>77,000</td>\n",
       "      <td>automatic</td>\n",
       "      <td>gas</td>\n",
       "      <td>355,000</td>\n",
       "    </tr>\n",
       "    <tr>\n",
       "      <th>1</th>\n",
       "      <td>Hyundai</td>\n",
       "      <td>Accent RB</td>\n",
       "      <td>2017</td>\n",
       "      <td>95,000</td>\n",
       "      <td>automatic</td>\n",
       "      <td>gas</td>\n",
       "      <td>400,000</td>\n",
       "    </tr>\n",
       "    <tr>\n",
       "      <th>2</th>\n",
       "      <td>Kia</td>\n",
       "      <td>Cerato</td>\n",
       "      <td>2016</td>\n",
       "      <td>106,000</td>\n",
       "      <td>automatic</td>\n",
       "      <td>gas</td>\n",
       "      <td>415,000</td>\n",
       "    </tr>\n",
       "    <tr>\n",
       "      <th>3</th>\n",
       "      <td>Chrysler</td>\n",
       "      <td>300</td>\n",
       "      <td>2006</td>\n",
       "      <td>155,000</td>\n",
       "      <td>automatic</td>\n",
       "      <td>gas</td>\n",
       "      <td>650,000</td>\n",
       "    </tr>\n",
       "    <tr>\n",
       "      <th>4</th>\n",
       "      <td>Dodge</td>\n",
       "      <td>Charger</td>\n",
       "      <td>2010</td>\n",
       "      <td>80,000</td>\n",
       "      <td>automatic</td>\n",
       "      <td>gas</td>\n",
       "      <td>800,000</td>\n",
       "    </tr>\n",
       "  </tbody>\n",
       "</table>\n",
       "</div>"
      ],
      "text/plain": [
       "       Make      Model  Year       Km Transmission Fuel    Price\n",
       "0     Chery   Arrizo 5  2020   77,000    automatic  gas  355,000\n",
       "1   Hyundai  Accent RB  2017   95,000    automatic  gas  400,000\n",
       "2       Kia     Cerato  2016  106,000    automatic  gas  415,000\n",
       "3  Chrysler        300  2006  155,000    automatic  gas  650,000\n",
       "4     Dodge    Charger  2010   80,000    automatic  gas  800,000"
      ]
     },
     "execution_count": 4,
     "metadata": {},
     "output_type": "execute_result"
    }
   ],
   "source": [
    "df.head()"
   ]
  },
  {
   "cell_type": "code",
   "execution_count": 5,
   "id": "6ca1f266",
   "metadata": {},
   "outputs": [
    {
     "data": {
      "text/html": [
       "<div>\n",
       "<style scoped>\n",
       "    .dataframe tbody tr th:only-of-type {\n",
       "        vertical-align: middle;\n",
       "    }\n",
       "\n",
       "    .dataframe tbody tr th {\n",
       "        vertical-align: top;\n",
       "    }\n",
       "\n",
       "    .dataframe thead th {\n",
       "        text-align: right;\n",
       "    }\n",
       "</style>\n",
       "<table border=\"1\" class=\"dataframe\">\n",
       "  <thead>\n",
       "    <tr style=\"text-align: right;\">\n",
       "      <th></th>\n",
       "      <th>Make</th>\n",
       "      <th>Model</th>\n",
       "      <th>Year</th>\n",
       "      <th>Km</th>\n",
       "      <th>Transmission</th>\n",
       "      <th>Fuel</th>\n",
       "      <th>Price</th>\n",
       "    </tr>\n",
       "  </thead>\n",
       "  <tbody>\n",
       "    <tr>\n",
       "      <th>20124</th>\n",
       "      <td>None</td>\n",
       "      <td>None</td>\n",
       "      <td>None</td>\n",
       "      <td>None</td>\n",
       "      <td>None</td>\n",
       "      <td>None</td>\n",
       "      <td>None</td>\n",
       "    </tr>\n",
       "    <tr>\n",
       "      <th>20125</th>\n",
       "      <td>None</td>\n",
       "      <td>None</td>\n",
       "      <td>None</td>\n",
       "      <td>None</td>\n",
       "      <td>None</td>\n",
       "      <td>None</td>\n",
       "      <td>None</td>\n",
       "    </tr>\n",
       "    <tr>\n",
       "      <th>20126</th>\n",
       "      <td>None</td>\n",
       "      <td>None</td>\n",
       "      <td>None</td>\n",
       "      <td>None</td>\n",
       "      <td>None</td>\n",
       "      <td>None</td>\n",
       "      <td>None</td>\n",
       "    </tr>\n",
       "    <tr>\n",
       "      <th>20127</th>\n",
       "      <td>None</td>\n",
       "      <td>None</td>\n",
       "      <td>None</td>\n",
       "      <td>None</td>\n",
       "      <td>None</td>\n",
       "      <td>None</td>\n",
       "      <td>None</td>\n",
       "    </tr>\n",
       "    <tr>\n",
       "      <th>20128</th>\n",
       "      <td>None</td>\n",
       "      <td>None</td>\n",
       "      <td>None</td>\n",
       "      <td>None</td>\n",
       "      <td>None</td>\n",
       "      <td>None</td>\n",
       "      <td>None</td>\n",
       "    </tr>\n",
       "  </tbody>\n",
       "</table>\n",
       "</div>"
      ],
      "text/plain": [
       "       Make Model  Year    Km Transmission  Fuel Price\n",
       "20124  None  None  None  None         None  None  None\n",
       "20125  None  None  None  None         None  None  None\n",
       "20126  None  None  None  None         None  None  None\n",
       "20127  None  None  None  None         None  None  None\n",
       "20128  None  None  None  None         None  None  None"
      ]
     },
     "execution_count": 5,
     "metadata": {},
     "output_type": "execute_result"
    }
   ],
   "source": [
    "df.tail()"
   ]
  },
  {
   "cell_type": "code",
   "execution_count": 6,
   "id": "5a1df262",
   "metadata": {},
   "outputs": [
    {
     "data": {
      "text/plain": [
       "(20129, 7)"
      ]
     },
     "execution_count": 6,
     "metadata": {},
     "output_type": "execute_result"
    }
   ],
   "source": [
    "df.shape"
   ]
  },
  {
   "cell_type": "code",
   "execution_count": 7,
   "id": "71d3ce65",
   "metadata": {},
   "outputs": [
    {
     "data": {
      "text/html": [
       "<div>\n",
       "<style scoped>\n",
       "    .dataframe tbody tr th:only-of-type {\n",
       "        vertical-align: middle;\n",
       "    }\n",
       "\n",
       "    .dataframe tbody tr th {\n",
       "        vertical-align: top;\n",
       "    }\n",
       "\n",
       "    .dataframe thead th {\n",
       "        text-align: right;\n",
       "    }\n",
       "</style>\n",
       "<table border=\"1\" class=\"dataframe\">\n",
       "  <thead>\n",
       "    <tr style=\"text-align: right;\">\n",
       "      <th></th>\n",
       "      <th>Make</th>\n",
       "      <th>Model</th>\n",
       "      <th>Year</th>\n",
       "      <th>Km</th>\n",
       "      <th>Transmission</th>\n",
       "      <th>Fuel</th>\n",
       "      <th>Price</th>\n",
       "    </tr>\n",
       "  </thead>\n",
       "  <tbody>\n",
       "    <tr>\n",
       "      <th>6220</th>\n",
       "      <td>None</td>\n",
       "      <td>None</td>\n",
       "      <td>None</td>\n",
       "      <td>None</td>\n",
       "      <td>None</td>\n",
       "      <td>None</td>\n",
       "      <td>None</td>\n",
       "    </tr>\n",
       "    <tr>\n",
       "      <th>19954</th>\n",
       "      <td>None</td>\n",
       "      <td>None</td>\n",
       "      <td>None</td>\n",
       "      <td>None</td>\n",
       "      <td>None</td>\n",
       "      <td>None</td>\n",
       "      <td>None</td>\n",
       "    </tr>\n",
       "    <tr>\n",
       "      <th>19955</th>\n",
       "      <td>None</td>\n",
       "      <td>None</td>\n",
       "      <td>None</td>\n",
       "      <td>None</td>\n",
       "      <td>None</td>\n",
       "      <td>None</td>\n",
       "      <td>None</td>\n",
       "    </tr>\n",
       "    <tr>\n",
       "      <th>19956</th>\n",
       "      <td>None</td>\n",
       "      <td>None</td>\n",
       "      <td>None</td>\n",
       "      <td>None</td>\n",
       "      <td>None</td>\n",
       "      <td>None</td>\n",
       "      <td>None</td>\n",
       "    </tr>\n",
       "    <tr>\n",
       "      <th>19957</th>\n",
       "      <td>None</td>\n",
       "      <td>None</td>\n",
       "      <td>None</td>\n",
       "      <td>None</td>\n",
       "      <td>None</td>\n",
       "      <td>None</td>\n",
       "      <td>None</td>\n",
       "    </tr>\n",
       "    <tr>\n",
       "      <th>19958</th>\n",
       "      <td>None</td>\n",
       "      <td>None</td>\n",
       "      <td>None</td>\n",
       "      <td>None</td>\n",
       "      <td>None</td>\n",
       "      <td>None</td>\n",
       "      <td>None</td>\n",
       "    </tr>\n",
       "    <tr>\n",
       "      <th>19959</th>\n",
       "      <td>None</td>\n",
       "      <td>None</td>\n",
       "      <td>None</td>\n",
       "      <td>None</td>\n",
       "      <td>None</td>\n",
       "      <td>None</td>\n",
       "      <td>None</td>\n",
       "    </tr>\n",
       "    <tr>\n",
       "      <th>19960</th>\n",
       "      <td>None</td>\n",
       "      <td>None</td>\n",
       "      <td>None</td>\n",
       "      <td>None</td>\n",
       "      <td>None</td>\n",
       "      <td>None</td>\n",
       "      <td>None</td>\n",
       "    </tr>\n",
       "    <tr>\n",
       "      <th>19961</th>\n",
       "      <td>None</td>\n",
       "      <td>None</td>\n",
       "      <td>None</td>\n",
       "      <td>None</td>\n",
       "      <td>None</td>\n",
       "      <td>None</td>\n",
       "      <td>None</td>\n",
       "    </tr>\n",
       "    <tr>\n",
       "      <th>20122</th>\n",
       "      <td>None</td>\n",
       "      <td>None</td>\n",
       "      <td>None</td>\n",
       "      <td>None</td>\n",
       "      <td>None</td>\n",
       "      <td>None</td>\n",
       "      <td>None</td>\n",
       "    </tr>\n",
       "    <tr>\n",
       "      <th>20123</th>\n",
       "      <td>None</td>\n",
       "      <td>None</td>\n",
       "      <td>None</td>\n",
       "      <td>None</td>\n",
       "      <td>None</td>\n",
       "      <td>None</td>\n",
       "      <td>None</td>\n",
       "    </tr>\n",
       "    <tr>\n",
       "      <th>20124</th>\n",
       "      <td>None</td>\n",
       "      <td>None</td>\n",
       "      <td>None</td>\n",
       "      <td>None</td>\n",
       "      <td>None</td>\n",
       "      <td>None</td>\n",
       "      <td>None</td>\n",
       "    </tr>\n",
       "    <tr>\n",
       "      <th>20125</th>\n",
       "      <td>None</td>\n",
       "      <td>None</td>\n",
       "      <td>None</td>\n",
       "      <td>None</td>\n",
       "      <td>None</td>\n",
       "      <td>None</td>\n",
       "      <td>None</td>\n",
       "    </tr>\n",
       "    <tr>\n",
       "      <th>20126</th>\n",
       "      <td>None</td>\n",
       "      <td>None</td>\n",
       "      <td>None</td>\n",
       "      <td>None</td>\n",
       "      <td>None</td>\n",
       "      <td>None</td>\n",
       "      <td>None</td>\n",
       "    </tr>\n",
       "    <tr>\n",
       "      <th>20127</th>\n",
       "      <td>None</td>\n",
       "      <td>None</td>\n",
       "      <td>None</td>\n",
       "      <td>None</td>\n",
       "      <td>None</td>\n",
       "      <td>None</td>\n",
       "      <td>None</td>\n",
       "    </tr>\n",
       "    <tr>\n",
       "      <th>20128</th>\n",
       "      <td>None</td>\n",
       "      <td>None</td>\n",
       "      <td>None</td>\n",
       "      <td>None</td>\n",
       "      <td>None</td>\n",
       "      <td>None</td>\n",
       "      <td>None</td>\n",
       "    </tr>\n",
       "  </tbody>\n",
       "</table>\n",
       "</div>"
      ],
      "text/plain": [
       "       Make Model  Year    Km Transmission  Fuel Price\n",
       "6220   None  None  None  None         None  None  None\n",
       "19954  None  None  None  None         None  None  None\n",
       "19955  None  None  None  None         None  None  None\n",
       "19956  None  None  None  None         None  None  None\n",
       "19957  None  None  None  None         None  None  None\n",
       "19958  None  None  None  None         None  None  None\n",
       "19959  None  None  None  None         None  None  None\n",
       "19960  None  None  None  None         None  None  None\n",
       "19961  None  None  None  None         None  None  None\n",
       "20122  None  None  None  None         None  None  None\n",
       "20123  None  None  None  None         None  None  None\n",
       "20124  None  None  None  None         None  None  None\n",
       "20125  None  None  None  None         None  None  None\n",
       "20126  None  None  None  None         None  None  None\n",
       "20127  None  None  None  None         None  None  None\n",
       "20128  None  None  None  None         None  None  None"
      ]
     },
     "execution_count": 7,
     "metadata": {},
     "output_type": "execute_result"
    }
   ],
   "source": [
    "#Exploring the None Values\n",
    "newdf = df[df['Km'] == 'None'] \n",
    "newdf"
   ]
  },
  {
   "cell_type": "code",
   "execution_count": 8,
   "id": "706529ef",
   "metadata": {},
   "outputs": [],
   "source": [
    "#Replacing None with null values\n",
    "df.replace(to_replace=['None'], value=np.nan, inplace=True)"
   ]
  },
  {
   "cell_type": "code",
   "execution_count": 9,
   "id": "0149f3ba",
   "metadata": {},
   "outputs": [
    {
     "data": {
      "text/plain": [
       "Make            16\n",
       "Model           16\n",
       "Year            17\n",
       "Km              16\n",
       "Transmission    16\n",
       "Fuel            16\n",
       "Price           16\n",
       "dtype: int64"
      ]
     },
     "execution_count": 9,
     "metadata": {},
     "output_type": "execute_result"
    }
   ],
   "source": [
    "df.isnull().sum()"
   ]
  },
  {
   "cell_type": "code",
   "execution_count": 10,
   "id": "7d461a92",
   "metadata": {},
   "outputs": [
    {
     "data": {
      "text/plain": [
       "Make            0\n",
       "Model           0\n",
       "Year            1\n",
       "Km              0\n",
       "Transmission    0\n",
       "Fuel            0\n",
       "Price           0\n",
       "dtype: int64"
      ]
     },
     "execution_count": 10,
     "metadata": {},
     "output_type": "execute_result"
    }
   ],
   "source": [
    "#Dropping rows with null values in \"price\" column\n",
    "df.dropna(subset=[\"Price\"], axis=0, inplace=True)\n",
    "df.isnull().sum()"
   ]
  },
  {
   "cell_type": "code",
   "execution_count": 11,
   "id": "633cda00",
   "metadata": {},
   "outputs": [
    {
     "data": {
      "text/plain": [
       "Make            0\n",
       "Model           0\n",
       "Year            0\n",
       "Km              0\n",
       "Transmission    0\n",
       "Fuel            0\n",
       "Price           0\n",
       "dtype: int64"
      ]
     },
     "execution_count": 11,
     "metadata": {},
     "output_type": "execute_result"
    }
   ],
   "source": [
    "#drop null year\n",
    "df.dropna(subset=[\"Year\"], axis=0, inplace=True)\n",
    "df.isnull().sum()"
   ]
  },
  {
   "cell_type": "code",
   "execution_count": 12,
   "id": "9f957b71",
   "metadata": {},
   "outputs": [
    {
     "name": "stdout",
     "output_type": "stream",
     "text": [
      "Make            object\n",
      "Model           object\n",
      "Year            object\n",
      "Km              object\n",
      "Transmission    object\n",
      "Fuel            object\n",
      "Price           object\n",
      "dtype: object\n"
     ]
    }
   ],
   "source": [
    "print(df.dtypes)"
   ]
  },
  {
   "cell_type": "code",
   "execution_count": 13,
   "id": "7db7dc7a",
   "metadata": {},
   "outputs": [
    {
     "data": {
      "text/html": [
       "<div>\n",
       "<style scoped>\n",
       "    .dataframe tbody tr th:only-of-type {\n",
       "        vertical-align: middle;\n",
       "    }\n",
       "\n",
       "    .dataframe tbody tr th {\n",
       "        vertical-align: top;\n",
       "    }\n",
       "\n",
       "    .dataframe thead th {\n",
       "        text-align: right;\n",
       "    }\n",
       "</style>\n",
       "<table border=\"1\" class=\"dataframe\">\n",
       "  <thead>\n",
       "    <tr style=\"text-align: right;\">\n",
       "      <th></th>\n",
       "      <th>Make</th>\n",
       "      <th>Model</th>\n",
       "      <th>Year</th>\n",
       "      <th>Km</th>\n",
       "      <th>Transmission</th>\n",
       "      <th>Fuel</th>\n",
       "      <th>Price</th>\n",
       "    </tr>\n",
       "  </thead>\n",
       "  <tbody>\n",
       "    <tr>\n",
       "      <th>0</th>\n",
       "      <td>Chery</td>\n",
       "      <td>Arrizo 5</td>\n",
       "      <td>2020</td>\n",
       "      <td>77,000</td>\n",
       "      <td>automatic</td>\n",
       "      <td>gas</td>\n",
       "      <td>355,000</td>\n",
       "    </tr>\n",
       "    <tr>\n",
       "      <th>1</th>\n",
       "      <td>Hyundai</td>\n",
       "      <td>Accent RB</td>\n",
       "      <td>2017</td>\n",
       "      <td>95,000</td>\n",
       "      <td>automatic</td>\n",
       "      <td>gas</td>\n",
       "      <td>400,000</td>\n",
       "    </tr>\n",
       "    <tr>\n",
       "      <th>2</th>\n",
       "      <td>Kia</td>\n",
       "      <td>Cerato</td>\n",
       "      <td>2016</td>\n",
       "      <td>106,000</td>\n",
       "      <td>automatic</td>\n",
       "      <td>gas</td>\n",
       "      <td>415,000</td>\n",
       "    </tr>\n",
       "    <tr>\n",
       "      <th>3</th>\n",
       "      <td>Chrysler</td>\n",
       "      <td>300</td>\n",
       "      <td>2006</td>\n",
       "      <td>155,000</td>\n",
       "      <td>automatic</td>\n",
       "      <td>gas</td>\n",
       "      <td>650,000</td>\n",
       "    </tr>\n",
       "    <tr>\n",
       "      <th>4</th>\n",
       "      <td>Dodge</td>\n",
       "      <td>Charger</td>\n",
       "      <td>2010</td>\n",
       "      <td>80,000</td>\n",
       "      <td>automatic</td>\n",
       "      <td>gas</td>\n",
       "      <td>800,000</td>\n",
       "    </tr>\n",
       "  </tbody>\n",
       "</table>\n",
       "</div>"
      ],
      "text/plain": [
       "       Make      Model  Year       Km Transmission Fuel    Price\n",
       "0     Chery   Arrizo 5  2020   77,000    automatic  gas  355,000\n",
       "1   Hyundai  Accent RB  2017   95,000    automatic  gas  400,000\n",
       "2       Kia     Cerato  2016  106,000    automatic  gas  415,000\n",
       "3  Chrysler        300  2006  155,000    automatic  gas  650,000\n",
       "4     Dodge    Charger  2010   80,000    automatic  gas  800,000"
      ]
     },
     "execution_count": 13,
     "metadata": {},
     "output_type": "execute_result"
    }
   ],
   "source": [
    "df.head()"
   ]
  },
  {
   "cell_type": "code",
   "execution_count": 14,
   "id": "2c450279",
   "metadata": {},
   "outputs": [],
   "source": [
    "#Fixing number formats\n",
    "df['Price'] = df['Price'].str.replace(',', '', regex=True)"
   ]
  },
  {
   "cell_type": "code",
   "execution_count": 15,
   "id": "a6e4eab9",
   "metadata": {},
   "outputs": [],
   "source": [
    "#Replacing any text with 0\n",
    "#Changing column data type to float\n",
    "df['Price'] = df['Price'].str.replace('\\W', '0', regex=True).str.replace('[A-Za-z]', '0', regex=True).astype(float)"
   ]
  },
  {
   "cell_type": "code",
   "execution_count": 16,
   "id": "ea9e100d",
   "metadata": {},
   "outputs": [
    {
     "data": {
      "text/plain": [
       "count    2.011200e+04\n",
       "mean     4.135929e+05\n",
       "std      4.611212e+05\n",
       "min      0.000000e+00\n",
       "25%      1.550000e+05\n",
       "50%      3.175000e+05\n",
       "75%      5.000000e+05\n",
       "max      1.000000e+07\n",
       "Name: Price, dtype: float64"
      ]
     },
     "execution_count": 16,
     "metadata": {},
     "output_type": "execute_result"
    }
   ],
   "source": [
    "#Statistical summary of the column\n",
    "df['Price'].describe()"
   ]
  },
  {
   "cell_type": "code",
   "execution_count": 17,
   "id": "e85c4d2e",
   "metadata": {},
   "outputs": [],
   "source": [
    "#Repeating the proccess for KM column\n",
    "df['Km'] = df['Km'].str.replace(',', '', regex=True)"
   ]
  },
  {
   "cell_type": "code",
   "execution_count": 18,
   "id": "8d786503",
   "metadata": {},
   "outputs": [],
   "source": [
    "df['Km'] = df['Km'].str.replace('\\W', '0', regex=True).str.replace('[A-Za-z]', '0', regex=True).astype(float)"
   ]
  },
  {
   "cell_type": "code",
   "execution_count": 19,
   "id": "119ea2c4",
   "metadata": {},
   "outputs": [
    {
     "data": {
      "text/plain": [
       "count    2.011200e+04\n",
       "mean     1.158853e+05\n",
       "std      1.788791e+05\n",
       "min      0.000000e+00\n",
       "25%      4.000000e+04\n",
       "50%      1.000000e+05\n",
       "75%      1.700000e+05\n",
       "max      1.000000e+07\n",
       "Name: Km, dtype: float64"
      ]
     },
     "execution_count": 19,
     "metadata": {},
     "output_type": "execute_result"
    }
   ],
   "source": [
    "df['Km'].describe()"
   ]
  },
  {
   "cell_type": "code",
   "execution_count": 20,
   "id": "cf2ab8f3",
   "metadata": {},
   "outputs": [],
   "source": [
    "df['Year'] = df['Year'].astype(float)"
   ]
  },
  {
   "cell_type": "code",
   "execution_count": 21,
   "id": "1de2138d",
   "metadata": {},
   "outputs": [
    {
     "data": {
      "text/plain": [
       "count    20112.000000\n",
       "mean      2011.783463\n",
       "std         10.331298\n",
       "min       1880.000000\n",
       "25%       2008.000000\n",
       "50%       2015.000000\n",
       "75%       2020.000000\n",
       "max       2024.000000\n",
       "Name: Year, dtype: float64"
      ]
     },
     "execution_count": 21,
     "metadata": {},
     "output_type": "execute_result"
    }
   ],
   "source": [
    "df['Year'].describe()"
   ]
  },
  {
   "cell_type": "code",
   "execution_count": 22,
   "id": "aa1a0440",
   "metadata": {},
   "outputs": [
    {
     "name": "stdout",
     "output_type": "stream",
     "text": [
      "Make             object\n",
      "Model            object\n",
      "Year            float64\n",
      "Km              float64\n",
      "Transmission     object\n",
      "Fuel             object\n",
      "Price           float64\n",
      "dtype: object\n"
     ]
    }
   ],
   "source": [
    "print(df.dtypes)"
   ]
  },
  {
   "cell_type": "code",
   "execution_count": 23,
   "id": "d1bbd314",
   "metadata": {},
   "outputs": [
    {
     "data": {
      "text/plain": [
       "Make               0\n",
       "Model              0\n",
       "Year               0\n",
       "Km              1635\n",
       "Transmission       0\n",
       "Fuel               0\n",
       "Price             28\n",
       "dtype: int64"
      ]
     },
     "execution_count": 23,
     "metadata": {},
     "output_type": "execute_result"
    }
   ],
   "source": [
    "df[df==0].count()"
   ]
  },
  {
   "cell_type": "code",
   "execution_count": 24,
   "id": "1323e4a5",
   "metadata": {},
   "outputs": [
    {
     "data": {
      "text/plain": [
       "Make               0\n",
       "Model              0\n",
       "Year               0\n",
       "Km              1629\n",
       "Transmission       0\n",
       "Fuel               0\n",
       "Price              0\n",
       "dtype: int64"
      ]
     },
     "execution_count": 24,
     "metadata": {},
     "output_type": "execute_result"
    }
   ],
   "source": [
    "#Drop any empty price value\n",
    "df= df[df['Price'] != 0]\n",
    "df[df==0].count()"
   ]
  },
  {
   "cell_type": "code",
   "execution_count": 25,
   "id": "406e46c1",
   "metadata": {},
   "outputs": [
    {
     "data": {
      "text/html": [
       "<div>\n",
       "<style scoped>\n",
       "    .dataframe tbody tr th:only-of-type {\n",
       "        vertical-align: middle;\n",
       "    }\n",
       "\n",
       "    .dataframe tbody tr th {\n",
       "        vertical-align: top;\n",
       "    }\n",
       "\n",
       "    .dataframe thead th {\n",
       "        text-align: right;\n",
       "    }\n",
       "</style>\n",
       "<table border=\"1\" class=\"dataframe\">\n",
       "  <thead>\n",
       "    <tr style=\"text-align: right;\">\n",
       "      <th></th>\n",
       "      <th>Make</th>\n",
       "      <th>Model</th>\n",
       "      <th>Year</th>\n",
       "      <th>Km</th>\n",
       "      <th>Transmission</th>\n",
       "      <th>Fuel</th>\n",
       "      <th>Price</th>\n",
       "    </tr>\n",
       "  </thead>\n",
       "  <tbody>\n",
       "    <tr>\n",
       "      <th>64</th>\n",
       "      <td>Opel</td>\n",
       "      <td>Vectra</td>\n",
       "      <td>1995.0</td>\n",
       "      <td>0.0</td>\n",
       "      <td>manual</td>\n",
       "      <td>gas</td>\n",
       "      <td>75000.0</td>\n",
       "    </tr>\n",
       "    <tr>\n",
       "      <th>66</th>\n",
       "      <td>Ford</td>\n",
       "      <td>Escort</td>\n",
       "      <td>1999.0</td>\n",
       "      <td>0.0</td>\n",
       "      <td>manual</td>\n",
       "      <td>gas</td>\n",
       "      <td>70000.0</td>\n",
       "    </tr>\n",
       "    <tr>\n",
       "      <th>101</th>\n",
       "      <td>BMW</td>\n",
       "      <td>518</td>\n",
       "      <td>1984.0</td>\n",
       "      <td>0.0</td>\n",
       "      <td>manual</td>\n",
       "      <td>gas</td>\n",
       "      <td>70000.0</td>\n",
       "    </tr>\n",
       "    <tr>\n",
       "      <th>103</th>\n",
       "      <td>Skoda</td>\n",
       "      <td>Felicia</td>\n",
       "      <td>1995.0</td>\n",
       "      <td>0.0</td>\n",
       "      <td>manual</td>\n",
       "      <td>gas</td>\n",
       "      <td>70000.0</td>\n",
       "    </tr>\n",
       "    <tr>\n",
       "      <th>130</th>\n",
       "      <td>Mazda</td>\n",
       "      <td>929</td>\n",
       "      <td>1980.0</td>\n",
       "      <td>0.0</td>\n",
       "      <td>manual</td>\n",
       "      <td>gas</td>\n",
       "      <td>35000.0</td>\n",
       "    </tr>\n",
       "    <tr>\n",
       "      <th>...</th>\n",
       "      <td>...</td>\n",
       "      <td>...</td>\n",
       "      <td>...</td>\n",
       "      <td>...</td>\n",
       "      <td>...</td>\n",
       "      <td>...</td>\n",
       "      <td>...</td>\n",
       "    </tr>\n",
       "    <tr>\n",
       "      <th>19929</th>\n",
       "      <td>Fiat</td>\n",
       "      <td>128</td>\n",
       "      <td>1980.0</td>\n",
       "      <td>0.0</td>\n",
       "      <td>manual</td>\n",
       "      <td>gas</td>\n",
       "      <td>40000.0</td>\n",
       "    </tr>\n",
       "    <tr>\n",
       "      <th>19932</th>\n",
       "      <td>Kia</td>\n",
       "      <td>Pride</td>\n",
       "      <td>1999.0</td>\n",
       "      <td>0.0</td>\n",
       "      <td>manual</td>\n",
       "      <td>gas</td>\n",
       "      <td>58000.0</td>\n",
       "    </tr>\n",
       "    <tr>\n",
       "      <th>19939</th>\n",
       "      <td>Skoda</td>\n",
       "      <td>Felicia</td>\n",
       "      <td>1995.0</td>\n",
       "      <td>0.0</td>\n",
       "      <td>manual</td>\n",
       "      <td>gas</td>\n",
       "      <td>45000.0</td>\n",
       "    </tr>\n",
       "    <tr>\n",
       "      <th>19944</th>\n",
       "      <td>Lada</td>\n",
       "      <td>1200</td>\n",
       "      <td>1983.0</td>\n",
       "      <td>0.0</td>\n",
       "      <td>manual</td>\n",
       "      <td>gas</td>\n",
       "      <td>25000.0</td>\n",
       "    </tr>\n",
       "    <tr>\n",
       "      <th>19950</th>\n",
       "      <td>Chery</td>\n",
       "      <td>Tiggo</td>\n",
       "      <td>2011.0</td>\n",
       "      <td>0.0</td>\n",
       "      <td>manual</td>\n",
       "      <td>gas</td>\n",
       "      <td>130000.0</td>\n",
       "    </tr>\n",
       "  </tbody>\n",
       "</table>\n",
       "<p>1598 rows × 7 columns</p>\n",
       "</div>"
      ],
      "text/plain": [
       "        Make    Model    Year   Km Transmission Fuel     Price\n",
       "64      Opel   Vectra  1995.0  0.0       manual  gas   75000.0\n",
       "66      Ford   Escort  1999.0  0.0       manual  gas   70000.0\n",
       "101      BMW      518  1984.0  0.0       manual  gas   70000.0\n",
       "103    Skoda  Felicia  1995.0  0.0       manual  gas   70000.0\n",
       "130    Mazda      929  1980.0  0.0       manual  gas   35000.0\n",
       "...      ...      ...     ...  ...          ...  ...       ...\n",
       "19929   Fiat      128  1980.0  0.0       manual  gas   40000.0\n",
       "19932    Kia    Pride  1999.0  0.0       manual  gas   58000.0\n",
       "19939  Skoda  Felicia  1995.0  0.0       manual  gas   45000.0\n",
       "19944   Lada     1200  1983.0  0.0       manual  gas   25000.0\n",
       "19950  Chery    Tiggo  2011.0  0.0       manual  gas  130000.0\n",
       "\n",
       "[1598 rows x 7 columns]"
      ]
     },
     "execution_count": 25,
     "metadata": {},
     "output_type": "execute_result"
    }
   ],
   "source": [
    "df1 = df[(df['Km']==0)&(df['Year'] < 2023)]\n",
    "df1"
   ]
  },
  {
   "cell_type": "code",
   "execution_count": 26,
   "id": "32c1ed8b",
   "metadata": {},
   "outputs": [],
   "source": [
    "#Replace unknown KM values with the mean of KM value for cars from the same year\n",
    "#if the car is before 2024-2023\n",
    "#i.e. for a 2022 model >> 2022 cars average KM \n",
    "\n",
    "#cars with 0 KM entry:\n",
    "years = df1['Year'].unique().tolist()\n",
    "indexes = df1.index.values.tolist()\n",
    "\n",
    "#fixing the entries\n",
    "for y in years :\n",
    "    df2 = df[df['Year']==y]\n",
    "    mean = df2[\"Km\"].mean(axis=0)\n",
    "    for i in indexes :\n",
    "        if i in df2.index.values.tolist() :\n",
    "            df.loc[i,['Km']] = [mean]"
   ]
  },
  {
   "cell_type": "code",
   "execution_count": 27,
   "id": "e30e4ec1",
   "metadata": {},
   "outputs": [],
   "source": [
    "#Replacing unknown KM entries from the year 2023 and above with a random low number\n",
    "\n",
    "from random import randint\n",
    "df1 = df[(df['Km']==0)&(df['Year'] > 2022)]\n",
    "indexes = df1.index.values.tolist()\n",
    "\n",
    "for i in indexes :\n",
    "    df.loc[i,['Km']] = [randint(1000,5000)]"
   ]
  },
  {
   "cell_type": "code",
   "execution_count": 28,
   "id": "210165ab",
   "metadata": {},
   "outputs": [
    {
     "data": {
      "text/plain": [
       "Make            0\n",
       "Model           0\n",
       "Year            0\n",
       "Km              8\n",
       "Transmission    0\n",
       "Fuel            0\n",
       "Price           0\n",
       "dtype: int64"
      ]
     },
     "execution_count": 28,
     "metadata": {},
     "output_type": "execute_result"
    }
   ],
   "source": [
    "df[df==0].count()"
   ]
  },
  {
   "cell_type": "code",
   "execution_count": 29,
   "id": "4bffa5d5",
   "metadata": {},
   "outputs": [
    {
     "data": {
      "text/plain": [
       "Make            0\n",
       "Model           0\n",
       "Year            0\n",
       "Km              0\n",
       "Transmission    0\n",
       "Fuel            0\n",
       "Price           0\n",
       "dtype: int64"
      ]
     },
     "execution_count": 29,
     "metadata": {},
     "output_type": "execute_result"
    }
   ],
   "source": [
    "#Drop any empty KM value\n",
    "df= df[df['Km'] != 0]\n",
    "df[df==0].count()"
   ]
  },
  {
   "cell_type": "code",
   "execution_count": 30,
   "id": "0ee7f178",
   "metadata": {},
   "outputs": [
    {
     "data": {
      "text/html": [
       "<div>\n",
       "<style scoped>\n",
       "    .dataframe tbody tr th:only-of-type {\n",
       "        vertical-align: middle;\n",
       "    }\n",
       "\n",
       "    .dataframe tbody tr th {\n",
       "        vertical-align: top;\n",
       "    }\n",
       "\n",
       "    .dataframe thead th {\n",
       "        text-align: right;\n",
       "    }\n",
       "</style>\n",
       "<table border=\"1\" class=\"dataframe\">\n",
       "  <thead>\n",
       "    <tr style=\"text-align: right;\">\n",
       "      <th></th>\n",
       "      <th>Year</th>\n",
       "      <th>Km</th>\n",
       "      <th>Price</th>\n",
       "    </tr>\n",
       "  </thead>\n",
       "  <tbody>\n",
       "    <tr>\n",
       "      <th>count</th>\n",
       "      <td>20076.000000</td>\n",
       "      <td>2.007600e+04</td>\n",
       "      <td>2.007600e+04</td>\n",
       "    </tr>\n",
       "    <tr>\n",
       "      <th>mean</th>\n",
       "      <td>2011.802799</td>\n",
       "      <td>1.244430e+05</td>\n",
       "      <td>4.143214e+05</td>\n",
       "    </tr>\n",
       "    <tr>\n",
       "      <th>std</th>\n",
       "      <td>10.256011</td>\n",
       "      <td>1.764577e+05</td>\n",
       "      <td>4.612127e+05</td>\n",
       "    </tr>\n",
       "    <tr>\n",
       "      <th>min</th>\n",
       "      <td>1951.000000</td>\n",
       "      <td>1.000000e+00</td>\n",
       "      <td>1.000000e+00</td>\n",
       "    </tr>\n",
       "    <tr>\n",
       "      <th>25%</th>\n",
       "      <td>2008.000000</td>\n",
       "      <td>5.600000e+04</td>\n",
       "      <td>1.550000e+05</td>\n",
       "    </tr>\n",
       "    <tr>\n",
       "      <th>50%</th>\n",
       "      <td>2015.000000</td>\n",
       "      <td>1.110000e+05</td>\n",
       "      <td>3.200000e+05</td>\n",
       "    </tr>\n",
       "    <tr>\n",
       "      <th>75%</th>\n",
       "      <td>2020.000000</td>\n",
       "      <td>1.724041e+05</td>\n",
       "      <td>5.000000e+05</td>\n",
       "    </tr>\n",
       "    <tr>\n",
       "      <th>max</th>\n",
       "      <td>2024.000000</td>\n",
       "      <td>1.000000e+07</td>\n",
       "      <td>1.000000e+07</td>\n",
       "    </tr>\n",
       "  </tbody>\n",
       "</table>\n",
       "</div>"
      ],
      "text/plain": [
       "               Year            Km         Price\n",
       "count  20076.000000  2.007600e+04  2.007600e+04\n",
       "mean    2011.802799  1.244430e+05  4.143214e+05\n",
       "std       10.256011  1.764577e+05  4.612127e+05\n",
       "min     1951.000000  1.000000e+00  1.000000e+00\n",
       "25%     2008.000000  5.600000e+04  1.550000e+05\n",
       "50%     2015.000000  1.110000e+05  3.200000e+05\n",
       "75%     2020.000000  1.724041e+05  5.000000e+05\n",
       "max     2024.000000  1.000000e+07  1.000000e+07"
      ]
     },
     "execution_count": 30,
     "metadata": {},
     "output_type": "execute_result"
    }
   ],
   "source": [
    "df.describe()"
   ]
  },
  {
   "cell_type": "code",
   "execution_count": 31,
   "id": "ce1ad901",
   "metadata": {},
   "outputs": [
    {
     "data": {
      "text/plain": [
       "(20076, 7)"
      ]
     },
     "execution_count": 31,
     "metadata": {},
     "output_type": "execute_result"
    }
   ],
   "source": [
    "df.shape"
   ]
  },
  {
   "cell_type": "code",
   "execution_count": 32,
   "id": "495f206e",
   "metadata": {},
   "outputs": [],
   "source": [
    "df.to_csv(\"first-step.csv\",index=False)"
   ]
  }
 ],
 "metadata": {
  "kernelspec": {
   "display_name": "Python 3 (ipykernel)",
   "language": "python",
   "name": "python3"
  },
  "language_info": {
   "codemirror_mode": {
    "name": "ipython",
    "version": 3
   },
   "file_extension": ".py",
   "mimetype": "text/x-python",
   "name": "python",
   "nbconvert_exporter": "python",
   "pygments_lexer": "ipython3",
   "version": "3.9.12"
  }
 },
 "nbformat": 4,
 "nbformat_minor": 5
}
