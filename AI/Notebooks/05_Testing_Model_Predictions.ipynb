{
 "cells": [
  {
   "cell_type": "code",
   "execution_count": 1,
   "id": "14615e3c",
   "metadata": {},
   "outputs": [],
   "source": [
    "# load model and scaler and make predictions on new data\n",
    "from sklearn.datasets import make_blobs\n",
    "from sklearn.model_selection import train_test_split\n",
    "from sklearn.metrics import accuracy_score\n",
    "import joblib\n",
    "import pickle\n",
    "import pandas as pd \n",
    "df = pd.read_csv('final-step1.csv')"
   ]
  },
  {
   "cell_type": "code",
   "execution_count": 2,
   "id": "489df79c",
   "metadata": {},
   "outputs": [],
   "source": [
    "# load the model\n",
    "xg = joblib.load('xg1.joblib')\n",
    "\n",
    "# load the scaler\n",
    "std = joblib.load('std_scaler1.joblib')\n",
    "\n",
    "#Load the encoder\n",
    "encoder = joblib.load('encoder1.joblib')"
   ]
  },
  {
   "cell_type": "code",
   "execution_count": 3,
   "id": "98670dae",
   "metadata": {},
   "outputs": [],
   "source": [
    "#Getting an Input\n",
    "carinfo = ['Kia','Cerato',2012.0,80000.0,'manual','gas']"
   ]
  },
  {
   "cell_type": "code",
   "execution_count": 4,
   "id": "1f303dfb",
   "metadata": {},
   "outputs": [
    {
     "data": {
      "text/html": [
       "<div>\n",
       "<style scoped>\n",
       "    .dataframe tbody tr th:only-of-type {\n",
       "        vertical-align: middle;\n",
       "    }\n",
       "\n",
       "    .dataframe tbody tr th {\n",
       "        vertical-align: top;\n",
       "    }\n",
       "\n",
       "    .dataframe thead th {\n",
       "        text-align: right;\n",
       "    }\n",
       "</style>\n",
       "<table border=\"1\" class=\"dataframe\">\n",
       "  <thead>\n",
       "    <tr style=\"text-align: right;\">\n",
       "      <th></th>\n",
       "      <th>Make</th>\n",
       "      <th>Model</th>\n",
       "      <th>Year</th>\n",
       "      <th>Km</th>\n",
       "      <th>Transmission</th>\n",
       "      <th>Fuel</th>\n",
       "    </tr>\n",
       "  </thead>\n",
       "  <tbody>\n",
       "    <tr>\n",
       "      <th>0</th>\n",
       "      <td>Kia</td>\n",
       "      <td>Cerato</td>\n",
       "      <td>2012.0</td>\n",
       "      <td>80000.0</td>\n",
       "      <td>manual</td>\n",
       "      <td>gas</td>\n",
       "    </tr>\n",
       "  </tbody>\n",
       "</table>\n",
       "</div>"
      ],
      "text/plain": [
       "  Make   Model    Year       Km Transmission Fuel\n",
       "0  Kia  Cerato  2012.0  80000.0       manual  gas"
      ]
     },
     "execution_count": 4,
     "metadata": {},
     "output_type": "execute_result"
    }
   ],
   "source": [
    "#The input before processing\n",
    "input = pd.DataFrame([carinfo],columns=['Make','Model', 'Year', 'Km', 'Transmission', 'Fuel'])\n",
    "input"
   ]
  },
  {
   "cell_type": "code",
   "execution_count": 5,
   "id": "4c5fbac0",
   "metadata": {},
   "outputs": [
    {
     "data": {
      "text/html": [
       "<div>\n",
       "<style scoped>\n",
       "    .dataframe tbody tr th:only-of-type {\n",
       "        vertical-align: middle;\n",
       "    }\n",
       "\n",
       "    .dataframe tbody tr th {\n",
       "        vertical-align: top;\n",
       "    }\n",
       "\n",
       "    .dataframe thead th {\n",
       "        text-align: right;\n",
       "    }\n",
       "</style>\n",
       "<table border=\"1\" class=\"dataframe\">\n",
       "  <thead>\n",
       "    <tr style=\"text-align: right;\">\n",
       "      <th></th>\n",
       "      <th>Make</th>\n",
       "      <th>Model</th>\n",
       "      <th>Year</th>\n",
       "      <th>Km</th>\n",
       "      <th>Transmission</th>\n",
       "      <th>Fuel</th>\n",
       "    </tr>\n",
       "  </thead>\n",
       "  <tbody>\n",
       "    <tr>\n",
       "      <th>0</th>\n",
       "      <td>476305.433596</td>\n",
       "      <td>390812.403758</td>\n",
       "      <td>2012.0</td>\n",
       "      <td>80000.0</td>\n",
       "      <td>141122.129693</td>\n",
       "      <td>399147.828124</td>\n",
       "    </tr>\n",
       "  </tbody>\n",
       "</table>\n",
       "</div>"
      ],
      "text/plain": [
       "            Make          Model    Year       Km   Transmission           Fuel\n",
       "0  476305.433596  390812.403758  2012.0  80000.0  141122.129693  399147.828124"
      ]
     },
     "execution_count": 5,
     "metadata": {},
     "output_type": "execute_result"
    }
   ],
   "source": [
    "#Encoding the input\n",
    "x = encoder.transform(input)\n",
    "x"
   ]
  },
  {
   "cell_type": "code",
   "execution_count": 6,
   "id": "1e029cff",
   "metadata": {},
   "outputs": [
    {
     "data": {
      "text/html": [
       "<div>\n",
       "<style scoped>\n",
       "    .dataframe tbody tr th:only-of-type {\n",
       "        vertical-align: middle;\n",
       "    }\n",
       "\n",
       "    .dataframe tbody tr th {\n",
       "        vertical-align: top;\n",
       "    }\n",
       "\n",
       "    .dataframe thead th {\n",
       "        text-align: right;\n",
       "    }\n",
       "</style>\n",
       "<table border=\"1\" class=\"dataframe\">\n",
       "  <thead>\n",
       "    <tr style=\"text-align: right;\">\n",
       "      <th></th>\n",
       "      <th>Make</th>\n",
       "      <th>Model</th>\n",
       "      <th>Year</th>\n",
       "      <th>Km</th>\n",
       "      <th>Transmission</th>\n",
       "      <th>Fuel</th>\n",
       "    </tr>\n",
       "  </thead>\n",
       "  <tbody>\n",
       "    <tr>\n",
       "      <th>0</th>\n",
       "      <td>0.393233</td>\n",
       "      <td>-0.010845</td>\n",
       "      <td>0.002155</td>\n",
       "      <td>-0.543797</td>\n",
       "      <td>-1.47141</td>\n",
       "      <td>0.148202</td>\n",
       "    </tr>\n",
       "  </tbody>\n",
       "</table>\n",
       "</div>"
      ],
      "text/plain": [
       "       Make     Model      Year        Km  Transmission      Fuel\n",
       "0  0.393233 -0.010845  0.002155 -0.543797      -1.47141  0.148202"
      ]
     },
     "execution_count": 6,
     "metadata": {},
     "output_type": "execute_result"
    }
   ],
   "source": [
    "#Scaling the input\n",
    "x = pd.DataFrame(std.transform(x) , columns=input.columns)\n",
    "x"
   ]
  },
  {
   "cell_type": "code",
   "execution_count": 7,
   "id": "f40a1f8b",
   "metadata": {},
   "outputs": [
    {
     "data": {
      "text/plain": [
       "array([298685.7], dtype=float32)"
      ]
     },
     "execution_count": 7,
     "metadata": {},
     "output_type": "execute_result"
    }
   ],
   "source": [
    "#Predicting the input price \n",
    "predictions = xg.predict(x)\n",
    "predictions"
   ]
  },
  {
   "cell_type": "code",
   "execution_count": 8,
   "id": "30be4b3f",
   "metadata": {},
   "outputs": [
    {
     "name": "stdout",
     "output_type": "stream",
     "text": [
      "Min Price: 260000.0\n",
      "Max Price: 400000.0\n"
     ]
    }
   ],
   "source": [
    "#Checking the Result\n",
    "\n",
    "#Return Min and Max Price\n",
    "df1 = df[(df['Make']==carinfo[0]) & (df['Model']==carinfo[1]) & (df['Year']==carinfo[2])]\n",
    "\n",
    "if len(df1. index) > 1:\n",
    "    print('Min Price: '+ str(df1['Price'].min()))\n",
    "    print('Max Price: '+ str(df1['Price'].max()))\n",
    "else :\n",
    "    print('Information not available')"
   ]
  },
  {
   "cell_type": "code",
   "execution_count": 9,
   "id": "0a1fecd9",
   "metadata": {},
   "outputs": [
    {
     "data": {
      "text/html": [
       "<div>\n",
       "<style scoped>\n",
       "    .dataframe tbody tr th:only-of-type {\n",
       "        vertical-align: middle;\n",
       "    }\n",
       "\n",
       "    .dataframe tbody tr th {\n",
       "        vertical-align: top;\n",
       "    }\n",
       "\n",
       "    .dataframe thead th {\n",
       "        text-align: right;\n",
       "    }\n",
       "</style>\n",
       "<table border=\"1\" class=\"dataframe\">\n",
       "  <thead>\n",
       "    <tr style=\"text-align: right;\">\n",
       "      <th></th>\n",
       "      <th>Make</th>\n",
       "      <th>Model</th>\n",
       "      <th>Year</th>\n",
       "      <th>Km</th>\n",
       "      <th>Transmission</th>\n",
       "      <th>Fuel</th>\n",
       "      <th>Price</th>\n",
       "    </tr>\n",
       "  </thead>\n",
       "  <tbody>\n",
       "    <tr>\n",
       "      <th>2559</th>\n",
       "      <td>Kia</td>\n",
       "      <td>Cerato</td>\n",
       "      <td>2012.0</td>\n",
       "      <td>235000.0</td>\n",
       "      <td>automatic</td>\n",
       "      <td>gas</td>\n",
       "      <td>300000.0</td>\n",
       "    </tr>\n",
       "    <tr>\n",
       "      <th>7611</th>\n",
       "      <td>Kia</td>\n",
       "      <td>Cerato</td>\n",
       "      <td>2012.0</td>\n",
       "      <td>288000.0</td>\n",
       "      <td>automatic</td>\n",
       "      <td>gas</td>\n",
       "      <td>285000.0</td>\n",
       "    </tr>\n",
       "    <tr>\n",
       "      <th>8189</th>\n",
       "      <td>Kia</td>\n",
       "      <td>Cerato</td>\n",
       "      <td>2012.0</td>\n",
       "      <td>150000.0</td>\n",
       "      <td>automatic</td>\n",
       "      <td>natural gas</td>\n",
       "      <td>260000.0</td>\n",
       "    </tr>\n",
       "    <tr>\n",
       "      <th>8816</th>\n",
       "      <td>Kia</td>\n",
       "      <td>Cerato</td>\n",
       "      <td>2012.0</td>\n",
       "      <td>190000.0</td>\n",
       "      <td>automatic</td>\n",
       "      <td>gas</td>\n",
       "      <td>260000.0</td>\n",
       "    </tr>\n",
       "    <tr>\n",
       "      <th>9076</th>\n",
       "      <td>Kia</td>\n",
       "      <td>Cerato</td>\n",
       "      <td>2012.0</td>\n",
       "      <td>96000.0</td>\n",
       "      <td>automatic</td>\n",
       "      <td>gas</td>\n",
       "      <td>335000.0</td>\n",
       "    </tr>\n",
       "    <tr>\n",
       "      <th>9191</th>\n",
       "      <td>Kia</td>\n",
       "      <td>Cerato</td>\n",
       "      <td>2012.0</td>\n",
       "      <td>310000.0</td>\n",
       "      <td>automatic</td>\n",
       "      <td>gas</td>\n",
       "      <td>350000.0</td>\n",
       "    </tr>\n",
       "    <tr>\n",
       "      <th>9364</th>\n",
       "      <td>Kia</td>\n",
       "      <td>Cerato</td>\n",
       "      <td>2012.0</td>\n",
       "      <td>130000.0</td>\n",
       "      <td>automatic</td>\n",
       "      <td>gas</td>\n",
       "      <td>375000.0</td>\n",
       "    </tr>\n",
       "    <tr>\n",
       "      <th>10235</th>\n",
       "      <td>Kia</td>\n",
       "      <td>Cerato</td>\n",
       "      <td>2012.0</td>\n",
       "      <td>111000.0</td>\n",
       "      <td>automatic</td>\n",
       "      <td>gas</td>\n",
       "      <td>400000.0</td>\n",
       "    </tr>\n",
       "    <tr>\n",
       "      <th>13913</th>\n",
       "      <td>Kia</td>\n",
       "      <td>Cerato</td>\n",
       "      <td>2012.0</td>\n",
       "      <td>220000.0</td>\n",
       "      <td>automatic</td>\n",
       "      <td>gas</td>\n",
       "      <td>269000.0</td>\n",
       "    </tr>\n",
       "    <tr>\n",
       "      <th>15996</th>\n",
       "      <td>Kia</td>\n",
       "      <td>Cerato</td>\n",
       "      <td>2012.0</td>\n",
       "      <td>170000.0</td>\n",
       "      <td>automatic</td>\n",
       "      <td>gas</td>\n",
       "      <td>350000.0</td>\n",
       "    </tr>\n",
       "    <tr>\n",
       "      <th>16689</th>\n",
       "      <td>Kia</td>\n",
       "      <td>Cerato</td>\n",
       "      <td>2012.0</td>\n",
       "      <td>197000.0</td>\n",
       "      <td>automatic</td>\n",
       "      <td>gas</td>\n",
       "      <td>400000.0</td>\n",
       "    </tr>\n",
       "    <tr>\n",
       "      <th>17036</th>\n",
       "      <td>Kia</td>\n",
       "      <td>Cerato</td>\n",
       "      <td>2012.0</td>\n",
       "      <td>90000.0</td>\n",
       "      <td>automatic</td>\n",
       "      <td>gas</td>\n",
       "      <td>330000.0</td>\n",
       "    </tr>\n",
       "  </tbody>\n",
       "</table>\n",
       "</div>"
      ],
      "text/plain": [
       "      Make   Model    Year        Km Transmission         Fuel     Price\n",
       "2559   Kia  Cerato  2012.0  235000.0    automatic          gas  300000.0\n",
       "7611   Kia  Cerato  2012.0  288000.0    automatic          gas  285000.0\n",
       "8189   Kia  Cerato  2012.0  150000.0    automatic  natural gas  260000.0\n",
       "8816   Kia  Cerato  2012.0  190000.0    automatic          gas  260000.0\n",
       "9076   Kia  Cerato  2012.0   96000.0    automatic          gas  335000.0\n",
       "9191   Kia  Cerato  2012.0  310000.0    automatic          gas  350000.0\n",
       "9364   Kia  Cerato  2012.0  130000.0    automatic          gas  375000.0\n",
       "10235  Kia  Cerato  2012.0  111000.0    automatic          gas  400000.0\n",
       "13913  Kia  Cerato  2012.0  220000.0    automatic          gas  269000.0\n",
       "15996  Kia  Cerato  2012.0  170000.0    automatic          gas  350000.0\n",
       "16689  Kia  Cerato  2012.0  197000.0    automatic          gas  400000.0\n",
       "17036  Kia  Cerato  2012.0   90000.0    automatic          gas  330000.0"
      ]
     },
     "execution_count": 9,
     "metadata": {},
     "output_type": "execute_result"
    }
   ],
   "source": [
    "df1 = df[(df['Model']==carinfo[1]) & (df['Year']==carinfo[2])]\n",
    "df1"
   ]
  },
  {
   "cell_type": "code",
   "execution_count": null,
   "id": "21499da9",
   "metadata": {},
   "outputs": [],
   "source": []
  }
 ],
 "metadata": {
  "kernelspec": {
   "display_name": "Python 3 (ipykernel)",
   "language": "python",
   "name": "python3"
  },
  "language_info": {
   "codemirror_mode": {
    "name": "ipython",
    "version": 3
   },
   "file_extension": ".py",
   "mimetype": "text/x-python",
   "name": "python",
   "nbconvert_exporter": "python",
   "pygments_lexer": "ipython3",
   "version": "3.9.12"
  }
 },
 "nbformat": 4,
 "nbformat_minor": 5
}
