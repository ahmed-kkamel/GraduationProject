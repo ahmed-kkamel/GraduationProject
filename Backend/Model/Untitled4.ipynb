{
 "cells": [
  {
   "cell_type": "code",
   "execution_count": 129,
   "id": "14615e3c",
   "metadata": {},
   "outputs": [],
   "source": [
    "# load model and scaler and make predictions on new data\n",
    "from sklearn.datasets import make_blobs\n",
    "from sklearn.model_selection import train_test_split\n",
    "from sklearn.metrics import accuracy_score\n",
    "import joblib\n",
    "import pickle\n",
    "import pandas as pd \n",
    "df = pd.read_csv('cars-cleaned.csv')"
   ]
  },
  {
   "cell_type": "code",
   "execution_count": 7,
   "id": "489df79c",
   "metadata": {},
   "outputs": [],
   "source": [
    "# load the model\n",
    "xg = joblib.load('xg.joblib')\n",
    "\n",
    "# load the scaler\n",
    "std = joblib.load('std_scaler.joblib')\n",
    "\n",
    "#Load the encoder\n",
    "encoder = joblib.load('encoder.joblib')"
   ]
  },
  {
   "cell_type": "code",
   "execution_count": 87,
   "id": "98670dae",
   "metadata": {},
   "outputs": [],
   "source": [
    "carinfo = ['Volkswagen','Golf',2015.0,80000.0,'manual','gas']"
   ]
  },
  {
   "cell_type": "code",
   "execution_count": 88,
   "id": "1f303dfb",
   "metadata": {},
   "outputs": [
    {
     "data": {
      "text/plain": [
       "Make             object\n",
       "Model            object\n",
       "Year            float64\n",
       "Km              float64\n",
       "Transmission     object\n",
       "Fuel             object\n",
       "dtype: object"
      ]
     },
     "execution_count": 88,
     "metadata": {},
     "output_type": "execute_result"
    }
   ],
   "source": [
    "input = pd.DataFrame([carinfo],columns=['Make','Model', 'Year', 'Km', 'Transmission', 'Fuel'])\n",
    "input.dtypes"
   ]
  },
  {
   "cell_type": "code",
   "execution_count": 89,
   "id": "4c5fbac0",
   "metadata": {},
   "outputs": [
    {
     "data": {
      "text/html": [
       "<div>\n",
       "<style scoped>\n",
       "    .dataframe tbody tr th:only-of-type {\n",
       "        vertical-align: middle;\n",
       "    }\n",
       "\n",
       "    .dataframe tbody tr th {\n",
       "        vertical-align: top;\n",
       "    }\n",
       "\n",
       "    .dataframe thead th {\n",
       "        text-align: right;\n",
       "    }\n",
       "</style>\n",
       "<table border=\"1\" class=\"dataframe\">\n",
       "  <thead>\n",
       "    <tr style=\"text-align: right;\">\n",
       "      <th></th>\n",
       "      <th>Make</th>\n",
       "      <th>Model</th>\n",
       "      <th>Year</th>\n",
       "      <th>Km</th>\n",
       "      <th>Transmission</th>\n",
       "      <th>Fuel</th>\n",
       "    </tr>\n",
       "  </thead>\n",
       "  <tbody>\n",
       "    <tr>\n",
       "      <th>0</th>\n",
       "      <td>490657.393851</td>\n",
       "      <td>424123.856173</td>\n",
       "      <td>2015.0</td>\n",
       "      <td>80000.0</td>\n",
       "      <td>172828.19266</td>\n",
       "      <td>488667.832477</td>\n",
       "    </tr>\n",
       "  </tbody>\n",
       "</table>\n",
       "</div>"
      ],
      "text/plain": [
       "            Make          Model    Year       Km  Transmission           Fuel\n",
       "0  490657.393851  424123.856173  2015.0  80000.0  172828.19266  488667.832477"
      ]
     },
     "execution_count": 89,
     "metadata": {},
     "output_type": "execute_result"
    }
   ],
   "source": [
    "x = encoder.transform(input)\n",
    "x"
   ]
  },
  {
   "cell_type": "code",
   "execution_count": 90,
   "id": "1e029cff",
   "metadata": {},
   "outputs": [
    {
     "data": {
      "text/html": [
       "<div>\n",
       "<style scoped>\n",
       "    .dataframe tbody tr th:only-of-type {\n",
       "        vertical-align: middle;\n",
       "    }\n",
       "\n",
       "    .dataframe tbody tr th {\n",
       "        vertical-align: top;\n",
       "    }\n",
       "\n",
       "    .dataframe thead th {\n",
       "        text-align: right;\n",
       "    }\n",
       "</style>\n",
       "<table border=\"1\" class=\"dataframe\">\n",
       "  <thead>\n",
       "    <tr style=\"text-align: right;\">\n",
       "      <th></th>\n",
       "      <th>Make</th>\n",
       "      <th>Model</th>\n",
       "      <th>Year</th>\n",
       "      <th>Km</th>\n",
       "      <th>Transmission</th>\n",
       "      <th>Fuel</th>\n",
       "    </tr>\n",
       "  </thead>\n",
       "  <tbody>\n",
       "    <tr>\n",
       "      <th>0</th>\n",
       "      <td>0.030528</td>\n",
       "      <td>-0.156432</td>\n",
       "      <td>0.271223</td>\n",
       "      <td>-0.535324</td>\n",
       "      <td>-1.550499</td>\n",
       "      <td>0.159841</td>\n",
       "    </tr>\n",
       "  </tbody>\n",
       "</table>\n",
       "</div>"
      ],
      "text/plain": [
       "       Make     Model      Year        Km  Transmission      Fuel\n",
       "0  0.030528 -0.156432  0.271223 -0.535324     -1.550499  0.159841"
      ]
     },
     "execution_count": 90,
     "metadata": {},
     "output_type": "execute_result"
    }
   ],
   "source": [
    "x = pd.DataFrame(std.transform(x) , columns=input.columns)\n",
    "x"
   ]
  },
  {
   "cell_type": "code",
   "execution_count": 91,
   "id": "f40a1f8b",
   "metadata": {},
   "outputs": [
    {
     "data": {
      "text/plain": [
       "array([467155.], dtype=float32)"
      ]
     },
     "execution_count": 91,
     "metadata": {},
     "output_type": "execute_result"
    }
   ],
   "source": [
    "predictions = xg.predict(x)\n",
    "predictions"
   ]
  },
  {
   "cell_type": "code",
   "execution_count": 95,
   "id": "30be4b3f",
   "metadata": {},
   "outputs": [
    {
     "name": "stdout",
     "output_type": "stream",
     "text": [
      "Information not available\n"
     ]
    }
   ],
   "source": [
    "#Return Min and Max Price\n",
    "df1 = df[(df['Make']==carinfo[0]) & (df['Model']==carinfo[1]) & (df['Year']==carinfo[2])]\n",
    "\n",
    "if len(df1. index) > 1:\n",
    "    print('Min Price: '+ str(df1['Price'].min()))\n",
    "    print('Max Price: '+ str(df1['Price'].max()))\n",
    "else :\n",
    "    print('Information not available')"
   ]
  },
  {
   "cell_type": "code",
   "execution_count": null,
   "id": "0a1fecd9",
   "metadata": {},
   "outputs": [],
   "source": []
  }
 ],
 "metadata": {
  "kernelspec": {
   "display_name": "Python 3 (ipykernel)",
   "language": "python",
   "name": "python3"
  },
  "language_info": {
   "codemirror_mode": {
    "name": "ipython",
    "version": 3
   },
   "file_extension": ".py",
   "mimetype": "text/x-python",
   "name": "python",
   "nbconvert_exporter": "python",
   "pygments_lexer": "ipython3",
   "version": "3.9.12"
  }
 },
 "nbformat": 4,
 "nbformat_minor": 5
}
